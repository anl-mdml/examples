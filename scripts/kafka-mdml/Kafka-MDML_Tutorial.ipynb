{
 "cells": [
  {
   "cell_type": "code",
   "execution_count": 1,
   "metadata": {},
   "outputs": [
    {
     "name": "stdout",
     "output_type": "stream",
     "text": [
      "Requirement already satisfied: mdml_client in /home/jelias/miniconda3/envs/mdml/lib/python3.6/site-packages (1.1.66)\n",
      "Requirement already satisfied: boto3 in /home/jelias/miniconda3/envs/mdml/lib/python3.6/site-packages (from mdml_client) (1.16.37)\n",
      "Requirement already satisfied: opencv-python in /home/jelias/miniconda3/envs/mdml/lib/python3.6/site-packages (from mdml_client) (4.4.0.46)\n",
      "Requirement already satisfied: funcx in /home/jelias/miniconda3/envs/mdml/lib/python3.6/site-packages (from mdml_client) (0.0.5)\n",
      "Requirement already satisfied: pandas in /home/jelias/miniconda3/envs/mdml/lib/python3.6/site-packages (from mdml_client) (1.1.5)\n",
      "Requirement already satisfied: matplotlib in /home/jelias/miniconda3/envs/mdml/lib/python3.6/site-packages (from mdml_client) (3.3.3)\n",
      "Requirement already satisfied: paho-mqtt in /home/jelias/miniconda3/envs/mdml/lib/python3.6/site-packages (from mdml_client) (1.5.1)\n",
      "Requirement already satisfied: jmespath<1.0.0,>=0.7.1 in /home/jelias/miniconda3/envs/mdml/lib/python3.6/site-packages (from boto3->mdml_client) (0.10.0)\n",
      "Requirement already satisfied: botocore<1.20.0,>=1.19.37 in /home/jelias/miniconda3/envs/mdml/lib/python3.6/site-packages (from boto3->mdml_client) (1.19.37)\n",
      "Requirement already satisfied: s3transfer<0.4.0,>=0.3.0 in /home/jelias/miniconda3/envs/mdml/lib/python3.6/site-packages (from boto3->mdml_client) (0.3.3)\n",
      "Requirement already satisfied: python-dateutil<3.0.0,>=2.1 in /home/jelias/miniconda3/envs/mdml/lib/python3.6/site-packages (from botocore<1.20.0,>=1.19.37->boto3->mdml_client) (2.8.1)\n",
      "Requirement already satisfied: urllib3<1.27,>=1.25.4 in /home/jelias/miniconda3/envs/mdml/lib/python3.6/site-packages (from botocore<1.20.0,>=1.19.37->boto3->mdml_client) (1.26.2)\n",
      "Requirement already satisfied: six>=1.5 in /home/jelias/miniconda3/envs/mdml/lib/python3.6/site-packages (from python-dateutil<3.0.0,>=2.1->botocore<1.20.0,>=1.19.37->boto3->mdml_client) (1.15.0)\n",
      "Requirement already satisfied: requests>=2.20.0 in /home/jelias/miniconda3/envs/mdml/lib/python3.6/site-packages (from funcx->mdml_client) (2.25.0)\n",
      "Requirement already satisfied: nbsphinx in /home/jelias/miniconda3/envs/mdml/lib/python3.6/site-packages (from funcx->mdml_client) (0.8.0)\n",
      "Requirement already satisfied: texttable in /home/jelias/miniconda3/envs/mdml/lib/python3.6/site-packages (from funcx->mdml_client) (1.6.3)\n",
      "Requirement already satisfied: jsonschema>=3.2.0 in /home/jelias/miniconda3/envs/mdml/lib/python3.6/site-packages (from funcx->mdml_client) (3.2.0)\n",
      "Requirement already satisfied: fair-research-login in /home/jelias/miniconda3/envs/mdml/lib/python3.6/site-packages (from funcx->mdml_client) (0.2.0)\n",
      "Requirement already satisfied: typer>=0.3.0 in /home/jelias/miniconda3/envs/mdml/lib/python3.6/site-packages (from funcx->mdml_client) (0.3.2)\n",
      "Requirement already satisfied: configobj in /home/jelias/miniconda3/envs/mdml/lib/python3.6/site-packages (from funcx->mdml_client) (5.0.6)\n",
      "Requirement already satisfied: parsl==0.9.0 in /home/jelias/miniconda3/envs/mdml/lib/python3.6/site-packages (from funcx->mdml_client) (0.9.0)\n",
      "Requirement already satisfied: dill>=0.3 in /home/jelias/miniconda3/envs/mdml/lib/python3.6/site-packages (from funcx->mdml_client) (0.3.3)\n",
      "Requirement already satisfied: sphinx-rtd-theme in /home/jelias/miniconda3/envs/mdml/lib/python3.6/site-packages (from funcx->mdml_client) (0.5.0)\n",
      "Requirement already satisfied: python-daemon in /home/jelias/miniconda3/envs/mdml/lib/python3.6/site-packages (from funcx->mdml_client) (2.2.4)\n",
      "Requirement already satisfied: ipykernel in /home/jelias/miniconda3/envs/mdml/lib/python3.6/site-packages (from parsl==0.9.0->funcx->mdml_client) (5.4.2)\n",
      "Requirement already satisfied: tblib in /home/jelias/miniconda3/envs/mdml/lib/python3.6/site-packages (from parsl==0.9.0->funcx->mdml_client) (1.7.0)\n",
      "Requirement already satisfied: globus-sdk in /home/jelias/miniconda3/envs/mdml/lib/python3.6/site-packages (from parsl==0.9.0->funcx->mdml_client) (1.9.1)\n",
      "Requirement already satisfied: pyzmq>=17.1.2 in /home/jelias/miniconda3/envs/mdml/lib/python3.6/site-packages (from parsl==0.9.0->funcx->mdml_client) (20.0.0)\n",
      "Requirement already satisfied: ipyparallel in /home/jelias/miniconda3/envs/mdml/lib/python3.6/site-packages (from parsl==0.9.0->funcx->mdml_client) (6.3.0)\n",
      "Requirement already satisfied: paramiko in /home/jelias/miniconda3/envs/mdml/lib/python3.6/site-packages (from parsl==0.9.0->funcx->mdml_client) (2.7.2)\n",
      "Requirement already satisfied: psutil>=5.5.1 in /home/jelias/miniconda3/envs/mdml/lib/python3.6/site-packages (from parsl==0.9.0->funcx->mdml_client) (5.7.3)\n",
      "Requirement already satisfied: typeguard in /home/jelias/miniconda3/envs/mdml/lib/python3.6/site-packages (from parsl==0.9.0->funcx->mdml_client) (2.10.0)\n",
      "Requirement already satisfied: setuptools in /home/jelias/miniconda3/envs/mdml/lib/python3.6/site-packages (from jsonschema>=3.2.0->funcx->mdml_client) (51.0.0.post20201207)\n",
      "Requirement already satisfied: attrs>=17.4.0 in /home/jelias/miniconda3/envs/mdml/lib/python3.6/site-packages (from jsonschema>=3.2.0->funcx->mdml_client) (20.3.0)\n",
      "Requirement already satisfied: importlib-metadata in /home/jelias/miniconda3/envs/mdml/lib/python3.6/site-packages (from jsonschema>=3.2.0->funcx->mdml_client) (3.7.2)\n",
      "Requirement already satisfied: pyrsistent>=0.14.0 in /home/jelias/miniconda3/envs/mdml/lib/python3.6/site-packages (from jsonschema>=3.2.0->funcx->mdml_client) (0.17.3)\n",
      "Requirement already satisfied: certifi>=2017.4.17 in /home/jelias/miniconda3/envs/mdml/lib/python3.6/site-packages (from requests>=2.20.0->funcx->mdml_client) (2020.12.5)\n",
      "Requirement already satisfied: idna<3,>=2.5 in /home/jelias/miniconda3/envs/mdml/lib/python3.6/site-packages (from requests>=2.20.0->funcx->mdml_client) (2.10)\n",
      "Requirement already satisfied: chardet<4,>=3.0.2 in /home/jelias/miniconda3/envs/mdml/lib/python3.6/site-packages (from requests>=2.20.0->funcx->mdml_client) (3.0.4)\n",
      "Requirement already satisfied: click<7.2.0,>=7.1.1 in /home/jelias/miniconda3/envs/mdml/lib/python3.6/site-packages (from typer>=0.3.0->funcx->mdml_client) (7.1.2)\n",
      "Requirement already satisfied: pyjwt[crypto]<2.0.0,>=1.5.3 in /home/jelias/miniconda3/envs/mdml/lib/python3.6/site-packages (from globus-sdk->parsl==0.9.0->funcx->mdml_client) (1.7.1)\n",
      "Requirement already satisfied: cryptography>=1.4 in /home/jelias/miniconda3/envs/mdml/lib/python3.6/site-packages (from pyjwt[crypto]<2.0.0,>=1.5.3->globus-sdk->parsl==0.9.0->funcx->mdml_client) (3.3.1)\n",
      "Requirement already satisfied: cffi>=1.12 in /home/jelias/miniconda3/envs/mdml/lib/python3.6/site-packages (from cryptography>=1.4->pyjwt[crypto]<2.0.0,>=1.5.3->globus-sdk->parsl==0.9.0->funcx->mdml_client) (1.14.4)\n",
      "Requirement already satisfied: pycparser in /home/jelias/miniconda3/envs/mdml/lib/python3.6/site-packages (from cffi>=1.12->cryptography>=1.4->pyjwt[crypto]<2.0.0,>=1.5.3->globus-sdk->parsl==0.9.0->funcx->mdml_client) (2.20)\n",
      "Requirement already satisfied: zipp>=0.5 in /home/jelias/miniconda3/envs/mdml/lib/python3.6/site-packages (from importlib-metadata->jsonschema>=3.2.0->funcx->mdml_client) (3.4.0)\n",
      "Requirement already satisfied: typing-extensions>=3.6.4 in /home/jelias/miniconda3/envs/mdml/lib/python3.6/site-packages (from importlib-metadata->jsonschema>=3.2.0->funcx->mdml_client) (3.7.4.3)\n",
      "Requirement already satisfied: tornado>=4.2 in /home/jelias/miniconda3/envs/mdml/lib/python3.6/site-packages (from ipykernel->parsl==0.9.0->funcx->mdml_client) (6.1)\n",
      "Requirement already satisfied: ipython>=5.0.0 in /home/jelias/miniconda3/envs/mdml/lib/python3.6/site-packages (from ipykernel->parsl==0.9.0->funcx->mdml_client) (7.16.1)\n",
      "Requirement already satisfied: jupyter-client in /home/jelias/miniconda3/envs/mdml/lib/python3.6/site-packages (from ipykernel->parsl==0.9.0->funcx->mdml_client) (6.1.7)\n",
      "Requirement already satisfied: traitlets>=4.1.0 in /home/jelias/miniconda3/envs/mdml/lib/python3.6/site-packages (from ipykernel->parsl==0.9.0->funcx->mdml_client) (4.3.3)\n",
      "Requirement already satisfied: prompt-toolkit!=3.0.0,!=3.0.1,<3.1.0,>=2.0.0 in /home/jelias/miniconda3/envs/mdml/lib/python3.6/site-packages (from ipython>=5.0.0->ipykernel->parsl==0.9.0->funcx->mdml_client) (3.0.8)\n",
      "Requirement already satisfied: jedi>=0.10 in /home/jelias/miniconda3/envs/mdml/lib/python3.6/site-packages (from ipython>=5.0.0->ipykernel->parsl==0.9.0->funcx->mdml_client) (0.17.2)\n",
      "Requirement already satisfied: pickleshare in /home/jelias/miniconda3/envs/mdml/lib/python3.6/site-packages (from ipython>=5.0.0->ipykernel->parsl==0.9.0->funcx->mdml_client) (0.7.5)\n",
      "Requirement already satisfied: pexpect in /home/jelias/miniconda3/envs/mdml/lib/python3.6/site-packages (from ipython>=5.0.0->ipykernel->parsl==0.9.0->funcx->mdml_client) (4.8.0)\n",
      "Requirement already satisfied: pygments in /home/jelias/miniconda3/envs/mdml/lib/python3.6/site-packages (from ipython>=5.0.0->ipykernel->parsl==0.9.0->funcx->mdml_client) (2.7.3)\n",
      "Requirement already satisfied: backcall in /home/jelias/miniconda3/envs/mdml/lib/python3.6/site-packages (from ipython>=5.0.0->ipykernel->parsl==0.9.0->funcx->mdml_client) (0.2.0)\n",
      "Requirement already satisfied: decorator in /home/jelias/miniconda3/envs/mdml/lib/python3.6/site-packages (from ipython>=5.0.0->ipykernel->parsl==0.9.0->funcx->mdml_client) (4.4.2)\n"
     ]
    },
    {
     "name": "stdout",
     "output_type": "stream",
     "text": [
      "Requirement already satisfied: parso<0.8.0,>=0.7.0 in /home/jelias/miniconda3/envs/mdml/lib/python3.6/site-packages (from jedi>=0.10->ipython>=5.0.0->ipykernel->parsl==0.9.0->funcx->mdml_client) (0.7.1)\n",
      "Requirement already satisfied: wcwidth in /home/jelias/miniconda3/envs/mdml/lib/python3.6/site-packages (from prompt-toolkit!=3.0.0,!=3.0.1,<3.1.0,>=2.0.0->ipython>=5.0.0->ipykernel->parsl==0.9.0->funcx->mdml_client) (0.2.5)\n",
      "Requirement already satisfied: ipython-genutils in /home/jelias/miniconda3/envs/mdml/lib/python3.6/site-packages (from traitlets>=4.1.0->ipykernel->parsl==0.9.0->funcx->mdml_client) (0.2.0)\n",
      "Requirement already satisfied: jupyter-core>=4.6.0 in /home/jelias/miniconda3/envs/mdml/lib/python3.6/site-packages (from jupyter-client->ipykernel->parsl==0.9.0->funcx->mdml_client) (4.7.0)\n",
      "Requirement already satisfied: pillow>=6.2.0 in /home/jelias/miniconda3/envs/mdml/lib/python3.6/site-packages (from matplotlib->mdml_client) (8.1.0)\n",
      "Requirement already satisfied: pyparsing!=2.0.4,!=2.1.2,!=2.1.6,>=2.0.3 in /home/jelias/miniconda3/envs/mdml/lib/python3.6/site-packages (from matplotlib->mdml_client) (2.4.7)\n",
      "Requirement already satisfied: numpy>=1.15 in /home/jelias/miniconda3/envs/mdml/lib/python3.6/site-packages (from matplotlib->mdml_client) (1.19.4)\n",
      "Requirement already satisfied: cycler>=0.10 in /home/jelias/miniconda3/envs/mdml/lib/python3.6/site-packages (from matplotlib->mdml_client) (0.10.0)\n",
      "Requirement already satisfied: kiwisolver>=1.0.1 in /home/jelias/miniconda3/envs/mdml/lib/python3.6/site-packages (from matplotlib->mdml_client) (1.3.1)\n",
      "Requirement already satisfied: sphinx>=1.8 in /home/jelias/miniconda3/envs/mdml/lib/python3.6/site-packages (from nbsphinx->funcx->mdml_client) (3.3.1)\n",
      "Requirement already satisfied: nbconvert!=5.4 in /home/jelias/miniconda3/envs/mdml/lib/python3.6/site-packages (from nbsphinx->funcx->mdml_client) (6.0.7)\n",
      "Requirement already satisfied: jinja2 in /home/jelias/miniconda3/envs/mdml/lib/python3.6/site-packages (from nbsphinx->funcx->mdml_client) (2.11.2)\n",
      "Requirement already satisfied: nbformat in /home/jelias/miniconda3/envs/mdml/lib/python3.6/site-packages (from nbsphinx->funcx->mdml_client) (5.0.8)\n",
      "Requirement already satisfied: docutils in /home/jelias/miniconda3/envs/mdml/lib/python3.6/site-packages (from nbsphinx->funcx->mdml_client) (0.16)\n",
      "Requirement already satisfied: jupyterlab-pygments in /home/jelias/miniconda3/envs/mdml/lib/python3.6/site-packages (from nbconvert!=5.4->nbsphinx->funcx->mdml_client) (0.1.2)\n",
      "Requirement already satisfied: bleach in /home/jelias/miniconda3/envs/mdml/lib/python3.6/site-packages (from nbconvert!=5.4->nbsphinx->funcx->mdml_client) (3.2.1)\n",
      "Requirement already satisfied: mistune<2,>=0.8.1 in /home/jelias/miniconda3/envs/mdml/lib/python3.6/site-packages (from nbconvert!=5.4->nbsphinx->funcx->mdml_client) (0.8.4)\n",
      "Requirement already satisfied: entrypoints>=0.2.2 in /home/jelias/miniconda3/envs/mdml/lib/python3.6/site-packages (from nbconvert!=5.4->nbsphinx->funcx->mdml_client) (0.3)\n",
      "Requirement already satisfied: pandocfilters>=1.4.1 in /home/jelias/miniconda3/envs/mdml/lib/python3.6/site-packages (from nbconvert!=5.4->nbsphinx->funcx->mdml_client) (1.4.3)\n",
      "Requirement already satisfied: defusedxml in /home/jelias/miniconda3/envs/mdml/lib/python3.6/site-packages (from nbconvert!=5.4->nbsphinx->funcx->mdml_client) (0.6.0)\n",
      "Requirement already satisfied: nbclient<0.6.0,>=0.5.0 in /home/jelias/miniconda3/envs/mdml/lib/python3.6/site-packages (from nbconvert!=5.4->nbsphinx->funcx->mdml_client) (0.5.1)\n",
      "Requirement already satisfied: testpath in /home/jelias/miniconda3/envs/mdml/lib/python3.6/site-packages (from nbconvert!=5.4->nbsphinx->funcx->mdml_client) (0.4.4)\n",
      "Requirement already satisfied: MarkupSafe>=0.23 in /home/jelias/miniconda3/envs/mdml/lib/python3.6/site-packages (from jinja2->nbsphinx->funcx->mdml_client) (1.1.1)\n",
      "Requirement already satisfied: async-generator in /home/jelias/miniconda3/envs/mdml/lib/python3.6/site-packages (from nbclient<0.6.0,>=0.5.0->nbconvert!=5.4->nbsphinx->funcx->mdml_client) (1.10)\n",
      "Requirement already satisfied: nest-asyncio in /home/jelias/miniconda3/envs/mdml/lib/python3.6/site-packages (from nbclient<0.6.0,>=0.5.0->nbconvert!=5.4->nbsphinx->funcx->mdml_client) (1.4.3)\n",
      "Requirement already satisfied: sphinxcontrib-devhelp in /home/jelias/miniconda3/envs/mdml/lib/python3.6/site-packages (from sphinx>=1.8->nbsphinx->funcx->mdml_client) (1.0.2)\n",
      "Requirement already satisfied: sphinxcontrib-htmlhelp in /home/jelias/miniconda3/envs/mdml/lib/python3.6/site-packages (from sphinx>=1.8->nbsphinx->funcx->mdml_client) (1.0.3)\n",
      "Requirement already satisfied: sphinxcontrib-qthelp in /home/jelias/miniconda3/envs/mdml/lib/python3.6/site-packages (from sphinx>=1.8->nbsphinx->funcx->mdml_client) (1.0.3)\n",
      "Requirement already satisfied: packaging in /home/jelias/miniconda3/envs/mdml/lib/python3.6/site-packages (from sphinx>=1.8->nbsphinx->funcx->mdml_client) (20.8)\n",
      "Requirement already satisfied: sphinxcontrib-serializinghtml in /home/jelias/miniconda3/envs/mdml/lib/python3.6/site-packages (from sphinx>=1.8->nbsphinx->funcx->mdml_client) (1.1.4)\n",
      "Requirement already satisfied: imagesize in /home/jelias/miniconda3/envs/mdml/lib/python3.6/site-packages (from sphinx>=1.8->nbsphinx->funcx->mdml_client) (1.2.0)\n",
      "Requirement already satisfied: babel>=1.3 in /home/jelias/miniconda3/envs/mdml/lib/python3.6/site-packages (from sphinx>=1.8->nbsphinx->funcx->mdml_client) (2.9.0)\n",
      "Requirement already satisfied: alabaster<0.8,>=0.7 in /home/jelias/miniconda3/envs/mdml/lib/python3.6/site-packages (from sphinx>=1.8->nbsphinx->funcx->mdml_client) (0.7.12)\n",
      "Requirement already satisfied: sphinxcontrib-applehelp in /home/jelias/miniconda3/envs/mdml/lib/python3.6/site-packages (from sphinx>=1.8->nbsphinx->funcx->mdml_client) (1.0.2)\n",
      "Requirement already satisfied: sphinxcontrib-jsmath in /home/jelias/miniconda3/envs/mdml/lib/python3.6/site-packages (from sphinx>=1.8->nbsphinx->funcx->mdml_client) (1.0.1)\n",
      "Requirement already satisfied: snowballstemmer>=1.1 in /home/jelias/miniconda3/envs/mdml/lib/python3.6/site-packages (from sphinx>=1.8->nbsphinx->funcx->mdml_client) (2.0.0)\n",
      "Requirement already satisfied: pytz>=2015.7 in /home/jelias/miniconda3/envs/mdml/lib/python3.6/site-packages (from babel>=1.3->sphinx>=1.8->nbsphinx->funcx->mdml_client) (2020.4)\n",
      "Requirement already satisfied: webencodings in /home/jelias/miniconda3/envs/mdml/lib/python3.6/site-packages (from bleach->nbconvert!=5.4->nbsphinx->funcx->mdml_client) (0.5.1)\n",
      "Requirement already satisfied: pynacl>=1.0.1 in /home/jelias/miniconda3/envs/mdml/lib/python3.6/site-packages (from paramiko->parsl==0.9.0->funcx->mdml_client) (1.4.0)\n",
      "Requirement already satisfied: bcrypt>=3.1.3 in /home/jelias/miniconda3/envs/mdml/lib/python3.6/site-packages (from paramiko->parsl==0.9.0->funcx->mdml_client) (3.2.0)\n",
      "Requirement already satisfied: ptyprocess>=0.5 in /home/jelias/miniconda3/envs/mdml/lib/python3.6/site-packages (from pexpect->ipython>=5.0.0->ipykernel->parsl==0.9.0->funcx->mdml_client) (0.6.0)\n",
      "Requirement already satisfied: lockfile>=0.10 in /home/jelias/miniconda3/envs/mdml/lib/python3.6/site-packages (from python-daemon->funcx->mdml_client) (0.12.2)\n"
     ]
    }
   ],
   "source": [
    "!pip install mdml_client"
   ]
  },
  {
   "cell_type": "code",
   "execution_count": 3,
   "metadata": {},
   "outputs": [],
   "source": [
    "import time\n",
    "import random\n",
    "import numpy as np\n",
    "import mdml_client as mdml"
   ]
  },
  {
   "cell_type": "markdown",
   "metadata": {},
   "source": [
    "## Example 1 \n",
    "Simple dictionary with producer and consumer."
   ]
  },
  {
   "cell_type": "code",
   "execution_count": 10,
   "metadata": {},
   "outputs": [],
   "source": [
    "# Create a schema that will define our data for the producer\n",
    "data_schema = {\n",
    "    \"$schema\": \"http://merf.egs.anl.gov/mdml-example-integer-data-schema#\",\n",
    "    \"title\": \"ExampleInteger\",\n",
    "    \"description\": \"Schema for MDML with Kafka example integer data\",\n",
    "    \"type\": \"object\",\n",
    "    \"properties\": {\n",
    "        \"id\": {\n",
    "            \"description\": \"ID of the data point\",\n",
    "            \"type\": \"number\"\n",
    "        },\n",
    "        \"time\": {\n",
    "            \"description\": \"Unix time the data point occurred\",\n",
    "            \"type\": \"number\"\n",
    "        },\n",
    "        \"int1\": {\n",
    "            \"description\": \"Random integer 1\",\n",
    "            \"type\": \"number\"\n",
    "        },\n",
    "        \"int2\": {\n",
    "            \"description\": \"Random integer 2\",\n",
    "            \"type\": \"number\"\n",
    "        },\n",
    "        \"int3\": {\n",
    "            \"description\": \"Random integer 3\",\n",
    "            \"type\": \"number\"\n",
    "        }\n",
    "    },\n",
    "    \"required\": [ \"id\", \"time\", \"int1\", \"int2\", \"int3\" ]\n",
    "}"
   ]
  },
  {
   "cell_type": "code",
   "execution_count": 11,
   "metadata": {},
   "outputs": [],
   "source": [
    "# Create a data producer and produce 5 messages with random integers\n",
    "producer = mdml.kafka_mdml_producer(\n",
    "    topic = \"mdml-example-integer\",\n",
    "    schema = data_schema)\n",
    "\n",
    "i = 0\n",
    "while i < 5:\n",
    "    dat = {\n",
    "        'id': i,\n",
    "        'time': time.time(),\n",
    "        'int1': random.randint(0,25),\n",
    "        'int2': random.randint(25,50),\n",
    "        'int3': random.randint(50,100)\n",
    "    }\n",
    "    producer.produce(dat)\n",
    "    i += 1"
   ]
  },
  {
   "cell_type": "code",
   "execution_count": 12,
   "metadata": {},
   "outputs": [
    {
     "name": "stdout",
     "output_type": "stream",
     "text": [
      "Ctrl+C to break consumer loop\n",
      "{'id': 0, 'time': 1620938425.0137014, 'int1': 4, 'int2': 42, 'int3': 87}\n",
      "{'id': 1, 'time': 1620938427.0567675, 'int1': 24, 'int2': 37, 'int3': 81}\n",
      "{'id': 2, 'time': 1620938427.0754302, 'int1': 23, 'int2': 44, 'int3': 94}\n",
      "{'id': 3, 'time': 1620938427.0938582, 'int1': 1, 'int2': 48, 'int3': 63}\n",
      "{'id': 4, 'time': 1620938427.1134882, 'int1': 5, 'int2': 31, 'int3': 60}\n"
     ]
    }
   ],
   "source": [
    "# Create a data consumer and consume the 5 messages\n",
    "consumer = mdml.kafka_mdml_consumer(\n",
    "    topic = \"mdml-example-integer\",\n",
    "    group = \"mdml-example-integer\")\n",
    "\n",
    "# consumer.consume() is a generator and will run until this cell is stopped manually\n",
    "for msg in consumer.consume():\n",
    "    print(msg)"
   ]
  },
  {
   "cell_type": "markdown",
   "metadata": {},
   "source": [
    "## Example 2\n",
    "Arrays "
   ]
  },
  {
   "cell_type": "code",
   "execution_count": 13,
   "metadata": {},
   "outputs": [],
   "source": [
    "array_schema = {\n",
    "    \"$schema\": \"http://merf.egs.anl.gov/mdml-example-array-data-schema#\",\n",
    "    \"title\": \"ExampleArray\",\n",
    "    \"description\": \"Schema for MDML with Kafka example array data\",\n",
    "    \"type\": \"object\",\n",
    "    \"properties\": {\n",
    "        \"id\": {\n",
    "            \"description\": \"ID of the data point\",\n",
    "            \"type\": \"number\"\n",
    "        },\n",
    "        \"time\": {\n",
    "            \"description\": \"Unix time the data point occurred\",\n",
    "            \"type\": \"number\"\n",
    "        },\n",
    "        \"wavelength\": {\n",
    "            \"description\": \"Array of wavelength values\",\n",
    "            \"type\": \"array\"\n",
    "        },\n",
    "        \"intensity\": {\n",
    "            \"description\": \"Array of intensity values\",\n",
    "            \"type\": \"array\"\n",
    "        }\n",
    "    },\n",
    "    \"required\": [ \"id\", \"time\", \"wavelength\", \"intensity\" ]\n",
    "}"
   ]
  },
  {
   "cell_type": "code",
   "execution_count": 43,
   "metadata": {},
   "outputs": [],
   "source": [
    "producer = mdml.kafka_mdml_producer(\n",
    "    topic = \"mdml-example-array\",\n",
    "    schema = array_schema)\n",
    "\n",
    "i = 0\n",
    "while i < 5:\n",
    "    # Create array of five random floats 0.0 to 10000.0\n",
    "    intensities = [\n",
    "        round(random.uniform(0.0, 10000.0), 3),\n",
    "        round(random.uniform(0.0, 10000.0), 3),\n",
    "        round(random.uniform(0.0, 10000.0), 3),\n",
    "        round(random.uniform(0.0, 10000.0), 3),\n",
    "        round(random.uniform(0.0, 10000.0), 3)\n",
    "    ]\n",
    "    dat = {\n",
    "        'id': i,\n",
    "        'time': time.time(),\n",
    "        'wavelength': [550, 600, 650, 700, 750],\n",
    "        'intensity': intensities\n",
    "    }\n",
    "    producer.produce(dat)\n",
    "    i += 1"
   ]
  },
  {
   "cell_type": "code",
   "execution_count": 44,
   "metadata": {},
   "outputs": [
    {
     "name": "stdout",
     "output_type": "stream",
     "text": [
      "Ctrl+C to break consumer loop\n",
      "{'id': 0, 'time': 1620939302.0333238, 'wavelength': [550, 600, 650, 700, 750], 'intensity': [8885.931, 1357.29, 5757.032, 9028.189, 1130.085]}\n",
      "{'id': 1, 'time': 1620939303.0683024, 'wavelength': [550, 600, 650, 700, 750], 'intensity': [5508.834, 4779.071, 363.938, 5024.914, 9867.73]}\n",
      "{'id': 2, 'time': 1620939303.0899205, 'wavelength': [550, 600, 650, 700, 750], 'intensity': [7371.471, 4869.943, 3310.335, 3394.481, 4449.198]}\n",
      "{'id': 3, 'time': 1620939303.1243489, 'wavelength': [550, 600, 650, 700, 750], 'intensity': [2426.794, 7120.587, 4036.134, 6997.439, 1530.848]}\n",
      "{'id': 4, 'time': 1620939303.1493125, 'wavelength': [550, 600, 650, 700, 750], 'intensity': [2025.027, 7674.068, 3138.048, 9452.086, 9005.383]}\n"
     ]
    }
   ],
   "source": [
    "consumer = mdml.kafka_mdml_consumer(\n",
    "    topic = \"mdml-example-array\",\n",
    "    group = \"mdml-example-array\")\n",
    "\n",
    "for msg in consumer.consume():\n",
    "    print(msg)"
   ]
  }
 ],
 "metadata": {
  "kernelspec": {
   "display_name": "mdml",
   "language": "python",
   "name": "mdml"
  },
  "language_info": {
   "codemirror_mode": {
    "name": "ipython",
    "version": 3
   },
   "file_extension": ".py",
   "mimetype": "text/x-python",
   "name": "python",
   "nbconvert_exporter": "python",
   "pygments_lexer": "ipython3",
   "version": "3.6.12"
  }
 },
 "nbformat": 4,
 "nbformat_minor": 2
}
