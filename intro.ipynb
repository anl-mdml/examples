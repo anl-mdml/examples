{
 "cells": [
  {
   "cell_type": "code",
   "execution_count": 2,
   "metadata": {},
   "outputs": [],
   "source": [
    "import time\n",
    "import random\n",
    "import mdml_client as mdml"
   ]
  },
  {
   "cell_type": "markdown",
   "metadata": {},
   "source": [
    "Below we connect to the MDML instance running on AWS. The username is `tutorial` and the password is `tutorial`. The experiment ID is `TUTORIAL`."
   ]
  },
  {
   "cell_type": "code",
   "execution_count": 6,
   "metadata": {},
   "outputs": [
    {
     "data": {
      "text/plain": [
       "True"
      ]
     },
     "execution_count": 6,
     "metadata": {},
     "output_type": "execute_result"
    },
    {
     "name": "stdout",
     "output_type": "stream",
     "text": [
      "Connecting to the message broker...\n"
     ]
    }
   ],
   "source": [
    "# Connecting to MDML\n",
    "exp = mdml.experiment(\"TUTORIAL\", \"tutorial\", \"tutorial\", \"52.4.135.44\")\n",
    "\n",
    "# Add experiment configuration file locally. The second parameter is the experiment run ID. \n",
    "exp.add_config(experiment_run_id=\"notebook_tutorial\", auto=True)\n",
    "\n",
    "# Sending config to MDML\n",
    "exp.send_config()"
   ]
  },
  {
   "cell_type": "markdown",
   "metadata": {},
   "source": [
    "### Streaming Data\n",
    "\n",
    "Once .send_config() has been called and the MDML ingests the configuraion message, the MDML is ready to begin accepting data. This example creates a device called `DEVICE1` and sends two values `val1` and `val2`."
   ]
  },
  {
   "cell_type": "code",
   "execution_count": 7,
   "metadata": {},
   "outputs": [],
   "source": [
    "# Send random data\n",
    "dat = {\"time\":mdml.unix_time(ret_int=True), \"val1\":random.randint(0,50), \"val2\": random.randint(51,100)}\n",
    "exp.publish_data(\"DEVICE1\", dat, add_device=True)\n",
    "# The add_device option only needs to be done once for the MDML to automatically add the device to the configuration.\n",
    "# This also captures data headers such that they are not needed going forward. \n",
    "# (JAKE: Double check that order is always preserved from the original dictionary)\n",
    "\n",
    "# Spreading out points just to visualize\n",
    "time.sleep(3)\n",
    "\n",
    "# Send a second set of points\n",
    "dat = [mdml.unix_time(ret_int=True), random.randint(0,50), random.randint(51,100)]\n",
    "exp.publish_data(\"DEVICE1\", dat)\n",
    "\n",
    "time.sleep(3)\n",
    "\n",
    "# Send a third set of points\n",
    "dat = [mdml.unix_time(ret_int=True), random.randint(0,50), random.randint(51,100)]\n",
    "exp.publish_data(\"DEVICE1\", dat)"
   ]
  },
  {
   "cell_type": "markdown",
   "metadata": {},
   "source": [
    "Lastly, a reset message is sent to the MDML to end the experiment. This archives all of the data into a tar file. You can access this through the MDML website. I can show you how tomorrow."
   ]
  },
  {
   "cell_type": "code",
   "execution_count": 5,
   "metadata": {},
   "outputs": [
    {
     "name": "stdout",
     "output_type": "stream",
     "text": [
      "Disconnected from MDML.\n"
     ]
    }
   ],
   "source": [
    "exp.reset()\n",
    "exp.disconnect()"
   ]
  },
  {
   "cell_type": "code",
   "execution_count": null,
   "metadata": {},
   "outputs": [],
   "source": []
  }
 ],
 "metadata": {
  "kernelspec": {
   "display_name": "mdml",
   "language": "python",
   "name": "mdml"
  },
  "language_info": {
   "codemirror_mode": {
    "name": "ipython",
    "version": 3
   },
   "file_extension": ".py",
   "mimetype": "text/x-python",
   "name": "python",
   "nbconvert_exporter": "python",
   "pygments_lexer": "ipython3",
   "version": "3.6.12"
  }
 },
 "nbformat": 4,
 "nbformat_minor": 2
}
