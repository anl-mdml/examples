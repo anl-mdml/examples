{
 "cells": [
  {
   "cell_type": "markdown",
   "metadata": {},
   "source": [
    "# MDML Tutorial\n",
    "The Manufacturing Data and Machine Learning platform (MDML) is a set of open source software to aid researchers in streaming, visualizing, and analyzing data in near real time. The MDML was created to support researchers in their work by creating infrastructure to perform common tasks with sensor and experiment data. "
   ]
  },
  {
   "cell_type": "markdown",
   "metadata": {},
   "source": [
    "## MDML Client\n",
    "An instance of the MDML can be interacted with through the python client. This is installed with `pip install mdml_client`. The client uses an `Experiment` object for any communications with the MDML instance. There are a few [helper functions](#helper_functions) outside of this class that can help with certain tasks."
   ]
  },
  {
   "cell_type": "code",
   "execution_count": 21,
   "metadata": {},
   "outputs": [],
   "source": [
    "# Importing libraries used in this tutorial\n",
    "import time\n",
    "import random\n",
    "import mdml_client as mdml\n",
    "from funcx.sdk.client import FuncXClient"
   ]
  },
  {
   "cell_type": "markdown",
   "metadata": {},
   "source": [
    "## Connecting to an MDML instance\n",
    "The first step in using the MDML is connecting to it. This is done by creating an `Experiment` object. Below we create this object using credentials already configured on the MDML instance. The username and password is `tutorial`. The experiment ID is `TUTORIAL` - this ID is unique and is what separates data from different experiments. We will build a dictionary containing all of the connection information since it will come in handy later when we run an analysis. [Functionality for TUTORIAL-xxx is in the MDML but how do we want to generate the random part?] "
   ]
  },
  {
   "cell_type": "code",
   "execution_count": 22,
   "metadata": {},
   "outputs": [],
   "source": [
    "# Connection parameters\n",
    "params = {\n",
    "    \"EXPERIMENT_ID\": \"TUTORIAL\", \n",
    "    \"USERNAME\": \"tutorial\",\n",
    "    \"PASSWORD\": \"tutorial\",\n",
    "    \"MDML_HOST\": \"52.4.135.44\"\n",
    "}\n",
    "\n",
    "# Connecting to MDML\n",
    "exp = mdml.experiment(params[\"EXPERIMENT_ID\"], params[\"USERNAME\"], params[\"PASSWORD\"], params[\"MDML_HOST\"])"
   ]
  },
  {
   "cell_type": "markdown",
   "metadata": {},
   "source": [
    "## Configuring an experiment\n",
    "The MDML knows what to do with your streamed data because of the experiment's configuration file. This file can be created manually. However, for the purposes of this tutorial, we will let the MDML create the configuration for us and ignore its syntax. In either case, adding your configuration is done in two steps. The first step adds the config locally and runs some checks on the syntax. The second step actually sends the configuration to the MDML instance. Any data streamed before the experiment's configuration has been ingested by the MDML will be ignored.    "
   ]
  },
  {
   "cell_type": "code",
   "execution_count": 23,
   "metadata": {},
   "outputs": [
    {
     "data": {
      "text/plain": [
       "True"
      ]
     },
     "execution_count": 23,
     "metadata": {},
     "output_type": "execute_result"
    }
   ],
   "source": [
    "# Add experiment configuration file locally. The second parameter is the experiment run ID. \n",
    "exp.add_config(experiment_run_id=\"notebook_tutorial\", auto=True)\n",
    "\n",
    "# Sending config to MDML\n",
    "exp.send_config()"
   ]
  },
  {
   "cell_type": "markdown",
   "metadata": {},
   "source": [
    "## Streaming Data\n",
    "\n",
    "Now that the MDML has a configuration we can start sending data. This example publishes three values: `time`, `val1`, and `val2` under a device named `DEVICE1`. `val1` and `val2` are random integers between 0-50 and 51-100, respectively. The `time` value is used by MDML's timeseries database, InfluxDB. InfluxDB uses Unix time in nanoseconds as the timestamp format for organizing data. It is strongly recommended to send a timestamp with each data message. If not, InfluxDB will use the time that the data was inserted. See [Helper Functions](#helper_functions) for a description of mdml.unix_time()."
   ]
  },
  {
   "cell_type": "code",
   "execution_count": 25,
   "metadata": {},
   "outputs": [],
   "source": [
    "# Create random data\n",
    "dat = {\n",
    "    \"time\": mdml.unix_time(ret_int=True),\n",
    "    \"val1\": random.randint(0,50), \n",
    "    \"val2\": random.randint(51,100)\n",
    "}\n",
    "# Send data to the MDML\n",
    "exp.publish_data(\"DEVICE1\", dat, add_device=True)\n",
    "# The add_device option is added here since we want the MDML to automatically create/build the configuration file.\n",
    "# Including it in subsequent calls is okay but not needed.\n",
    "\n",
    "# Spreading out points to visualize\n",
    "time.sleep(3)\n",
    "\n",
    "# Send a second set of points\n",
    "dat = [mdml.unix_time(ret_int=True), random.randint(0,50), random.randint(51,100)]\n",
    "exp.publish_data(\"DEVICE1\", dat)\n",
    "\n",
    "# Spreading out points to visualize\n",
    "time.sleep(3)\n",
    "\n",
    "# Send a third set of points\n",
    "dat = [mdml.unix_time(ret_int=True), random.randint(0,50), random.randint(51,100)]\n",
    "exp.publish_data(\"DEVICE1\", dat)"
   ]
  },
  {
   "cell_type": "markdown",
   "metadata": {},
   "source": [
    "## Real-time analysis with FuncX\n",
    "\n",
    "[Ryan: would you like to write a line or two about funcx here?]\n"
   ]
  },
  {
   "cell_type": "markdown",
   "metadata": {},
   "source": [
    "## Login with FuncX\n",
    "FuncX requires that users log in to ensure that no one can run functions on endpoints they are not allowed to. This access control also extends to FuncX functions. Since the MDML handles the invokation of functions as well as retrieving return values, your FuncX authentication token is needed."
   ]
  },
  {
   "cell_type": "code",
   "execution_count": 10,
   "metadata": {},
   "outputs": [],
   "source": [
    "# First login with FuncX to retrieve token\n",
    "exp.globus_login()"
   ]
  },
  {
   "cell_type": "markdown",
   "metadata": {},
   "source": [
    "## Creating a function for FuncX"
   ]
  },
  {
   "cell_type": "code",
   "execution_count": 11,
   "metadata": {},
   "outputs": [],
   "source": [
    "# Defining a function that adds two numbers streamed to the MDML\n",
    "def sum_vars(params):\n",
    "    import mdml_client as mdml\n",
    "    query = [{\n",
    "        \"device\": \"DEVICE1\",\n",
    "        \"variables\": [],\n",
    "        \"last\" : 1\n",
    "    }]\n",
    "\n",
    "    # Connect to MDML\n",
    "    exp = mdml.experiment(params[\"EXPERIMENT_ID\"], params[\"USERNAME\"], params[\"PASSWORD\"], params[\"MDML_HOST\"])\n",
    "    # Query for data\n",
    "    dat = exp.query(query, verify_cert=False)\n",
    "    # Pull out the first (only) row of the data\n",
    "    row = dat['DEVICE1'][0]\n",
    "    # Sum together\n",
    "    var_sum = int(row['val1']) + int(row['val2'])\n",
    "    # Return MDML-friendly data structure\n",
    "    return {\"sum\": var_sum}"
   ]
  },
  {
   "cell_type": "markdown",
   "metadata": {},
   "source": [
    "## Registering the function with FuncX"
   ]
  },
  {
   "cell_type": "code",
   "execution_count": 12,
   "metadata": {},
   "outputs": [],
   "source": [
    "# Registering the function with FuncX \n",
    "fxc = FuncXClient()\n",
    "funcx_func_uuid = fxc.register_function(sum_vars,\n",
    "    description=\"Sum 2 variables\")"
   ]
  },
  {
   "cell_type": "markdown",
   "metadata": {},
   "source": [
    "## Running the function with MDML\n",
    "Now, all we need to run an analysis are the FuncX UUIDs for our function and endpoint and any parameters. We are using a public FuncX endpoint created for this tutorial. The dictionary with our MDML connection infor will be used as the parameters here."
   ]
  },
  {
   "cell_type": "code",
   "execution_count": 14,
   "metadata": {},
   "outputs": [],
   "source": [
    "# Using FuncX's tutorial endpoint\n",
    "funcx_endp_uuid = \"cbdf256e-4a5a-4c56-84c0-d3a051a8eaa9\" # public tutorial endpoint\n",
    "\n",
    "# Send message to start analysis\n",
    "exp.publish_analysis(\"ANALYSIS\", funcx_func_uuid, funcx_endp_uuid, params)"
   ]
  },
  {
   "cell_type": "markdown",
   "metadata": {},
   "source": [
    "## Ending an MDML experiment\n",
    "\n",
    "Lastly, a reset message is sent to the MDML to end the experiment. This archives all of the data into a tar file. You can access this tar file through the MDML's object store. By default, resetting an experiment removes data from the timeseries database which means it will no longer appear in dashboards or be queriable for analyses. "
   ]
  },
  {
   "cell_type": "code",
   "execution_count": 20,
   "metadata": {},
   "outputs": [
    {
     "name": "stdout",
     "output_type": "stream",
     "text": [
      "Disconnected from MDML.\n"
     ]
    }
   ],
   "source": [
    "exp.reset()\n",
    "exp.disconnect()"
   ]
  },
  {
   "cell_type": "markdown",
   "metadata": {},
   "source": [
    "<a id='helper_functions'></a>\n",
    "\n",
    "## Helper Functions\n",
    "* __mdml.unix_time()__: Returns the unix time in nanoseconds (time format used in the MDML) as a string. Use param `ret_int=True` to return as an integer.  \n",
    "* __mdml.read_image()__: Transforms an image file into a byte string needed to send with Experiment.publish_image()"
   ]
  },
  {
   "cell_type": "code",
   "execution_count": null,
   "metadata": {},
   "outputs": [],
   "source": []
  }
 ],
 "metadata": {
  "kernelspec": {
   "display_name": "mdml",
   "language": "python",
   "name": "mdml"
  },
  "language_info": {
   "codemirror_mode": {
    "name": "ipython",
    "version": 3
   },
   "file_extension": ".py",
   "mimetype": "text/x-python",
   "name": "python",
   "nbconvert_exporter": "python",
   "pygments_lexer": "ipython3",
   "version": "3.6.12"
  }
 },
 "nbformat": 4,
 "nbformat_minor": 2
}
